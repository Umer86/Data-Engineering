version https://git-lfs.github.com/spec/v1
oid sha256:82ed092f0bb705732050bbe91170592d1b72d42d92e1658e8e3e27f6a3f311c8
size 4096
