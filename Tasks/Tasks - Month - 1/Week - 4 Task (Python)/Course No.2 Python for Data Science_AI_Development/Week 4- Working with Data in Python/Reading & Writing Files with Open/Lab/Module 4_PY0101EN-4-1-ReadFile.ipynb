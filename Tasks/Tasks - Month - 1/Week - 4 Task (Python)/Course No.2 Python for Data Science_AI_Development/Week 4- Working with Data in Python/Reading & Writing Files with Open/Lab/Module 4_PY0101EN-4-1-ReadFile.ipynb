version https://git-lfs.github.com/spec/v1
oid sha256:15c03c143dff4572212bba2b90b77c1edcd85663fa75bdc7df79615766418e3c
size 19743
