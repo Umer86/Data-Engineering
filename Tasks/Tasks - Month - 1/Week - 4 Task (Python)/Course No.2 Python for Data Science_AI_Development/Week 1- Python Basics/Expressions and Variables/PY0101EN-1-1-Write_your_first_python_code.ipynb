version https://git-lfs.github.com/spec/v1
oid sha256:5d06e115d93bbdf78627a81d7b100b8e4f985d043106aec909725bec0f965255
size 35431
