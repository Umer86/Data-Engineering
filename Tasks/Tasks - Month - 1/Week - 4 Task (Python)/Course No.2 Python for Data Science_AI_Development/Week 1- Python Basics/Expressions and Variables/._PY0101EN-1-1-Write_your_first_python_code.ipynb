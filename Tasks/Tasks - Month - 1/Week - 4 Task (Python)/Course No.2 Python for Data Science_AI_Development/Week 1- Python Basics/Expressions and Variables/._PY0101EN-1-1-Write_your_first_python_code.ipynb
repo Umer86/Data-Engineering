version https://git-lfs.github.com/spec/v1
oid sha256:6de56ae6afb3bf385098f24e46312eff967dfbe8f5c02855efc667cbf06c3167
size 4096
