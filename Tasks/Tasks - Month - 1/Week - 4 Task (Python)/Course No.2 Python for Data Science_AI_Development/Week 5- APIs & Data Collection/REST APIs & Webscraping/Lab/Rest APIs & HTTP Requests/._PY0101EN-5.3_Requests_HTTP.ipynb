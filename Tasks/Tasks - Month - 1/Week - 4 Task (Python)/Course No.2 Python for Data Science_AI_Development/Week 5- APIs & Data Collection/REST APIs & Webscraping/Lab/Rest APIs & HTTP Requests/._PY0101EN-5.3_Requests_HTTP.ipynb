version https://git-lfs.github.com/spec/v1
oid sha256:c1e13df4a72d9a3806cc756a3a96eb4826fd344975ec654e6b559206c3146575
size 4096
