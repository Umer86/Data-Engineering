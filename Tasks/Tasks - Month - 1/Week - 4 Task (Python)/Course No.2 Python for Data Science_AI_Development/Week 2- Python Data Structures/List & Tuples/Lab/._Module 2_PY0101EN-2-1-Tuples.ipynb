version https://git-lfs.github.com/spec/v1
oid sha256:5c7f9e8be1c05a2852de921f83c5aae61e85208fe1129c2fa5923fce7757fae8
size 4096
